{
  "cells": [
    {
      "cell_type": "code",
      "execution_count": null,
      "metadata": {
        "collapsed": false
      },
      "outputs": [],
      "source": [
        "%matplotlib inline"
      ]
    },
    {
      "cell_type": "markdown",
      "metadata": {},
      "source": [
        "\n====================================================================\nBenktander: Relationship between Chainladder and BornhuetterFerguson\n====================================================================\n\nThis example demonstrates the relationship between the Chainladder and\nBornhuetterFerguson methods by way of the Benktander model. Each is a\nspecial case of the Benktander model where ``n_iters = 1`` for BornhuetterFerguson\nand as ``n_iters`` approaches infinity yields the chainladder.  As ``n_iters``\nincreases the apriori selection becomes less relevant regardless of initial\nchoice.\n\n"
      ]
    },
    {
      "cell_type": "code",
      "execution_count": null,
      "metadata": {
        "collapsed": false
      },
      "outputs": [],
      "source": [
        "import chainladder as cl\n\n# Load Data\nclrd = cl.load_sample('clrd')\nmedmal_paid = clrd.groupby('LOB').sum().loc['medmal', 'CumPaidLoss']\nmedmal_prem = clrd.groupby('LOB').sum().loc['medmal', 'EarnedPremDIR'].latest_diagonal\nmedmal_prem.rename('development', ['premium'])\n\n# Generate LDFs and Tail Factor\nmedmal_paid = cl.Development().fit_transform(medmal_paid)\nmedmal_paid = cl.TailCurve().fit_transform(medmal_paid)\n\n# Benktander Model\nbenk = cl.Benktander()\n\n# Prep Benktander Grid Search with various assumptions, and a scoring function\nparam_grid = dict(n_iters=list(range(1,100,2)),\n                  apriori=[0.50, 0.75, 1.00])\nscoring = {'IBNR':lambda x: x.ibnr_.sum()}\ngrid = cl.GridSearch(benk, param_grid, scoring=scoring)\n# Perform Grid Search\ngrid.fit(medmal_paid, sample_weight=medmal_prem)\n\n# Plot data\ngrid.results_.pivot(index='n_iters', columns='apriori', values='IBNR').plot(\n    title='Benktander convergence to Chainladder', grid=True).set(ylabel='IBNR')"
      ]
    }
  ],
  "metadata": {
    "kernelspec": {
      "display_name": "Python 3",
      "language": "python",
      "name": "python3"
    },
    "language_info": {
      "codemirror_mode": {
        "name": "ipython",
        "version": 3
      },
      "file_extension": ".py",
      "mimetype": "text/x-python",
      "name": "python",
      "nbconvert_exporter": "python",
      "pygments_lexer": "ipython3",
      "version": "3.6.3"
    }
  },
  "nbformat": 4,
  "nbformat_minor": 0
}
